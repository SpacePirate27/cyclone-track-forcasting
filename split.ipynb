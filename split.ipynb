{
 "cells": [
  {
   "cell_type": "code",
   "execution_count": 1,
   "id": "1a246ecf-5073-4571-b981-9e24a012dc2c",
   "metadata": {},
   "outputs": [],
   "source": [
    "import pandas as pd"
   ]
  },
  {
   "cell_type": "code",
   "execution_count": 2,
   "id": "b9a8eb24-684b-4ab1-9be4-32f3fc452d20",
   "metadata": {},
   "outputs": [
    {
     "data": {
      "text/html": [
       "<div>\n",
       "<style scoped>\n",
       "    .dataframe tbody tr th:only-of-type {\n",
       "        vertical-align: middle;\n",
       "    }\n",
       "\n",
       "    .dataframe tbody tr th {\n",
       "        vertical-align: top;\n",
       "    }\n",
       "\n",
       "    .dataframe thead th {\n",
       "        text-align: right;\n",
       "    }\n",
       "</style>\n",
       "<table border=\"1\" class=\"dataframe\">\n",
       "  <thead>\n",
       "    <tr style=\"text-align: right;\">\n",
       "      <th></th>\n",
       "      <th>filename</th>\n",
       "      <th>timestamp</th>\n",
       "      <th>year_sine</th>\n",
       "      <th>day_sine</th>\n",
       "      <th>moon_phase</th>\n",
       "      <th>basin</th>\n",
       "      <th>name</th>\n",
       "      <th>lat</th>\n",
       "      <th>lon</th>\n",
       "      <th>estimated_central_pressure</th>\n",
       "      <th>...</th>\n",
       "      <th>wv_x_5</th>\n",
       "      <th>wv_y_5</th>\n",
       "      <th>wv_x_6</th>\n",
       "      <th>wv_y_6</th>\n",
       "      <th>wv_x_7</th>\n",
       "      <th>wv_y_7</th>\n",
       "      <th>wv_x_8</th>\n",
       "      <th>wv_y_8</th>\n",
       "      <th>dx</th>\n",
       "      <th>dy</th>\n",
       "    </tr>\n",
       "  </thead>\n",
       "  <tbody>\n",
       "    <tr>\n",
       "      <th>0</th>\n",
       "      <td>20070601180000</td>\n",
       "      <td>2007-06-01 18:00:00</td>\n",
       "      <td>0.516062</td>\n",
       "      <td>-1.000000e+00</td>\n",
       "      <td>-0.140464</td>\n",
       "      <td>ARB</td>\n",
       "      <td>GONU</td>\n",
       "      <td>15.0</td>\n",
       "      <td>68.0</td>\n",
       "      <td>1002.0</td>\n",
       "      <td>...</td>\n",
       "      <td>2.360240</td>\n",
       "      <td>5.985613</td>\n",
       "      <td>1.924336</td>\n",
       "      <td>-0.329804</td>\n",
       "      <td>2.562395</td>\n",
       "      <td>-7.041283</td>\n",
       "      <td>3.698475</td>\n",
       "      <td>-12.136565</td>\n",
       "      <td>NaN</td>\n",
       "      <td>NaN</td>\n",
       "    </tr>\n",
       "    <tr>\n",
       "      <th>1</th>\n",
       "      <td>20070601210000</td>\n",
       "      <td>2007-06-01 21:00:00</td>\n",
       "      <td>0.516062</td>\n",
       "      <td>-7.071068e-01</td>\n",
       "      <td>-0.165288</td>\n",
       "      <td>ARB</td>\n",
       "      <td>GONU</td>\n",
       "      <td>15.0</td>\n",
       "      <td>68.0</td>\n",
       "      <td>1002.0</td>\n",
       "      <td>...</td>\n",
       "      <td>1.036012</td>\n",
       "      <td>7.768498</td>\n",
       "      <td>2.398889</td>\n",
       "      <td>0.530154</td>\n",
       "      <td>4.692244</td>\n",
       "      <td>-6.084256</td>\n",
       "      <td>2.426826</td>\n",
       "      <td>-10.665859</td>\n",
       "      <td>0.0</td>\n",
       "      <td>0.0</td>\n",
       "    </tr>\n",
       "    <tr>\n",
       "      <th>2</th>\n",
       "      <td>20070602120000</td>\n",
       "      <td>2007-06-02 12:00:00</td>\n",
       "      <td>0.501242</td>\n",
       "      <td>-3.216245e-16</td>\n",
       "      <td>-0.288233</td>\n",
       "      <td>ARB</td>\n",
       "      <td>GONU</td>\n",
       "      <td>15.0</td>\n",
       "      <td>67.0</td>\n",
       "      <td>992.0</td>\n",
       "      <td>...</td>\n",
       "      <td>1.623776</td>\n",
       "      <td>2.095300</td>\n",
       "      <td>0.831110</td>\n",
       "      <td>3.022181</td>\n",
       "      <td>1.514332</td>\n",
       "      <td>2.436153</td>\n",
       "      <td>5.764182</td>\n",
       "      <td>-3.581330</td>\n",
       "      <td>0.0</td>\n",
       "      <td>-1.0</td>\n",
       "    </tr>\n",
       "    <tr>\n",
       "      <th>3</th>\n",
       "      <td>20070602150000</td>\n",
       "      <td>2007-06-02 15:00:00</td>\n",
       "      <td>0.501242</td>\n",
       "      <td>-7.071068e-01</td>\n",
       "      <td>-0.312472</td>\n",
       "      <td>ARB</td>\n",
       "      <td>GONU</td>\n",
       "      <td>15.0</td>\n",
       "      <td>67.0</td>\n",
       "      <td>992.0</td>\n",
       "      <td>...</td>\n",
       "      <td>2.881186</td>\n",
       "      <td>4.514999</td>\n",
       "      <td>2.014203</td>\n",
       "      <td>5.649739</td>\n",
       "      <td>3.489846</td>\n",
       "      <td>3.126783</td>\n",
       "      <td>5.911513</td>\n",
       "      <td>-3.851261</td>\n",
       "      <td>0.0</td>\n",
       "      <td>0.0</td>\n",
       "    </tr>\n",
       "    <tr>\n",
       "      <th>4</th>\n",
       "      <td>20070602180000</td>\n",
       "      <td>2007-06-02 18:00:00</td>\n",
       "      <td>0.501242</td>\n",
       "      <td>-1.000000e+00</td>\n",
       "      <td>-0.336556</td>\n",
       "      <td>ARB</td>\n",
       "      <td>GONU</td>\n",
       "      <td>15.0</td>\n",
       "      <td>67.0</td>\n",
       "      <td>992.0</td>\n",
       "      <td>...</td>\n",
       "      <td>3.388550</td>\n",
       "      <td>5.808276</td>\n",
       "      <td>3.300183</td>\n",
       "      <td>3.498281</td>\n",
       "      <td>4.186034</td>\n",
       "      <td>-1.365116</td>\n",
       "      <td>6.852615</td>\n",
       "      <td>-4.007970</td>\n",
       "      <td>0.0</td>\n",
       "      <td>0.0</td>\n",
       "    </tr>\n",
       "  </tbody>\n",
       "</table>\n",
       "<p>5 rows × 47 columns</p>\n",
       "</div>"
      ],
      "text/plain": [
       "         filename            timestamp  year_sine      day_sine  moon_phase  \\\n",
       "0  20070601180000  2007-06-01 18:00:00   0.516062 -1.000000e+00   -0.140464   \n",
       "1  20070601210000  2007-06-01 21:00:00   0.516062 -7.071068e-01   -0.165288   \n",
       "2  20070602120000  2007-06-02 12:00:00   0.501242 -3.216245e-16   -0.288233   \n",
       "3  20070602150000  2007-06-02 15:00:00   0.501242 -7.071068e-01   -0.312472   \n",
       "4  20070602180000  2007-06-02 18:00:00   0.501242 -1.000000e+00   -0.336556   \n",
       "\n",
       "  basin  name   lat   lon  estimated_central_pressure  ...    wv_x_5  \\\n",
       "0   ARB  GONU  15.0  68.0                      1002.0  ...  2.360240   \n",
       "1   ARB  GONU  15.0  68.0                      1002.0  ...  1.036012   \n",
       "2   ARB  GONU  15.0  67.0                       992.0  ...  1.623776   \n",
       "3   ARB  GONU  15.0  67.0                       992.0  ...  2.881186   \n",
       "4   ARB  GONU  15.0  67.0                       992.0  ...  3.388550   \n",
       "\n",
       "     wv_y_5    wv_x_6    wv_y_6    wv_x_7    wv_y_7    wv_x_8     wv_y_8   dx  \\\n",
       "0  5.985613  1.924336 -0.329804  2.562395 -7.041283  3.698475 -12.136565  NaN   \n",
       "1  7.768498  2.398889  0.530154  4.692244 -6.084256  2.426826 -10.665859  0.0   \n",
       "2  2.095300  0.831110  3.022181  1.514332  2.436153  5.764182  -3.581330  0.0   \n",
       "3  4.514999  2.014203  5.649739  3.489846  3.126783  5.911513  -3.851261  0.0   \n",
       "4  5.808276  3.300183  3.498281  4.186034 -1.365116  6.852615  -4.007970  0.0   \n",
       "\n",
       "    dy  \n",
       "0  NaN  \n",
       "1  0.0  \n",
       "2 -1.0  \n",
       "3  0.0  \n",
       "4  0.0  \n",
       "\n",
       "[5 rows x 47 columns]"
      ]
     },
     "execution_count": 2,
     "metadata": {},
     "output_type": "execute_result"
    }
   ],
   "source": [
    "df = pd.read_csv('final_dataset.csv')\n",
    "df.head()"
   ]
  },
  {
   "cell_type": "code",
   "execution_count": 3,
   "id": "5c6924c2-2dde-4384-bb72-d39a7dccfdb2",
   "metadata": {},
   "outputs": [
    {
     "data": {
      "text/plain": [
       "array(['GONU', 'YEMYIN', 'SIDR', 'NARGIS', 'BIJLI', 'AILA', 'PHYAN',\n",
       "       'WARD', 'LAILA', 'GIRI', 'JAL', 'KEILA', 'THANE', 'MURJAN',\n",
       "       'NILAM', 'VIYARU', 'PHAILIN', 'HELEN', 'NANAUK', 'HUDHUD',\n",
       "       'NILOFAR', 'ASHOBAA', 'KOMEN', 'CHAPALA', 'MEGH', 'ROANU', 'KYANT',\n",
       "       'NADA', 'VARDAH'], dtype=object)"
      ]
     },
     "execution_count": 3,
     "metadata": {},
     "output_type": "execute_result"
    }
   ],
   "source": [
    "cyclones = df.name.unique()\n",
    "cyclones"
   ]
  },
  {
   "cell_type": "code",
   "execution_count": 6,
   "id": "0ee32a2e-7663-4021-af21-0b5194b98394",
   "metadata": {},
   "outputs": [],
   "source": [
    "!mkdir cyclones"
   ]
  },
  {
   "cell_type": "code",
   "execution_count": 7,
   "id": "297b9d7e-fe00-4b72-9e7f-c43429bc6f1f",
   "metadata": {},
   "outputs": [],
   "source": [
    "for cyclone in cyclones:\n",
    "    new_df = df[df.name == cyclone]\n",
    "    new_df.to_csv(f'cyclones/{cyclone}.csv', index=False)"
   ]
  },
  {
   "cell_type": "code",
   "execution_count": 52,
   "id": "cdaecb68-1cc1-4064-9a8d-a9369549e181",
   "metadata": {},
   "outputs": [
    {
     "data": {
      "text/plain": [
       "'\\nfilename\\tlat\\tlat-pred\\tlon\\tlon-pred\\n20161211150000\\t13.3\\t13.29628968\\t82.5\\t82.12603706\\n20161208180000\\t11.8\\t12.05135000\\t90.5\\t90.37264683\\n20161206180000\\t9.5\\t9.85893825\\t90.5\\t90.34339135\\n20161209150000\\t12.2\\t12.25024698\\t89.9\\t89.72631913\\n20161210180000\\t13.3\\t13.38830317\\t85.3\\t84.81995484\\n20161209180000\\t12.3\\t12.55552532\\t89.6\\t89.38258952\\n20161207120000\\t10.0\\t10.59207040\\t90.5\\t90.08543794\\n20161208150000\\t11.7\\t11.85018825\\t90.5\\t90.36329667\\n20161212150000\\t12.9\\t12.89474714\\t79.5\\t79.14482325\\n20161209120000\\t12.2\\t12.69104397\\t90.0\\t89.29607421\\n20161207180000\\t10.8\\t11.28230111\\t90.5\\t90.37556548\\n20161208120000\\t11.7\\t12.40336357\\t90.5\\t90.15933079\\n20161211120000\\t13.3\\t13.46567317\\t83.0\\t81.51696889\\n20161212180000\\t12.7\\t12.64996856\\t79.1\\t78.63623571\\n20161211210000\\t13.2\\t13.18363254\\t81.9\\t81.41234587\\n20161209210000\\t12.5\\t12.80443944\\t89.0\\t88.63090960\\n20161211180000\\t13.1\\t13.01000619\\t82.3\\t81.96246310\\n20161212120000\\t13.0\\t13.02896579\\t79.9\\t78.72375556\\n20161208210000\\t12.0\\t12.29353373\\t90.5\\t90.42026365\\n20161210210000\\t13.3\\t13.33280778\\t85.0\\t84.56858460\\n20161210120000\\t13.2\\t13.89659238\\t86.4\\t84.86930556'"
      ]
     },
     "execution_count": 52,
     "metadata": {},
     "output_type": "execute_result"
    }
   ],
   "source": [
    "foo = '''\n",
    "filename\tlat\tlat-pred\tlon\tlon-pred\n",
    "20161211150000\t13.3\t13.29628968\t82.5\t82.12603706\n",
    "20161208180000\t11.8\t12.05135000\t90.5\t90.37264683\n",
    "20161206180000\t9.5\t9.85893825\t90.5\t90.34339135\n",
    "20161209150000\t12.2\t12.25024698\t89.9\t89.72631913\n",
    "20161210180000\t13.3\t13.38830317\t85.3\t84.81995484\n",
    "20161209180000\t12.3\t12.55552532\t89.6\t89.38258952\n",
    "20161207120000\t10.0\t10.59207040\t90.5\t90.08543794\n",
    "20161208150000\t11.7\t11.85018825\t90.5\t90.36329667\n",
    "20161212150000\t12.9\t12.89474714\t79.5\t79.14482325\n",
    "20161209120000\t12.2\t12.69104397\t90.0\t89.29607421\n",
    "20161207180000\t10.8\t11.28230111\t90.5\t90.37556548\n",
    "20161208120000\t11.7\t12.40336357\t90.5\t90.15933079\n",
    "20161211120000\t13.3\t13.46567317\t83.0\t81.51696889\n",
    "20161212180000\t12.7\t12.64996856\t79.1\t78.63623571\n",
    "20161211210000\t13.2\t13.18363254\t81.9\t81.41234587\n",
    "20161209210000\t12.5\t12.80443944\t89.0\t88.63090960\n",
    "20161211180000\t13.1\t13.01000619\t82.3\t81.96246310\n",
    "20161212120000\t13.0\t13.02896579\t79.9\t78.72375556\n",
    "20161208210000\t12.0\t12.29353373\t90.5\t90.42026365\n",
    "20161210210000\t13.3\t13.33280778\t85.0\t84.56858460\n",
    "20161210120000\t13.2\t13.89659238\t86.4\t84.86930556'''\n",
    "\n",
    "foo"
   ]
  },
  {
   "cell_type": "code",
   "execution_count": 53,
   "id": "e779ef20-7d57-46cc-b856-dfb4a1e3fe70",
   "metadata": {},
   "outputs": [],
   "source": [
    "import pandas as pd\n",
    "from io import StringIO"
   ]
  },
  {
   "cell_type": "code",
   "execution_count": 54,
   "id": "a99670cd-597a-4b56-8c6a-845cf44535c7",
   "metadata": {},
   "outputs": [],
   "source": [
    "buf = StringIO(foo)\n",
    "df = pd.read_csv(buf, sep='\\t')\n",
    "df = df.sort_values('filename')"
   ]
  },
  {
   "cell_type": "code",
   "execution_count": 55,
   "id": "f45d4d9c-00d8-443f-a376-26f26e8826a1",
   "metadata": {},
   "outputs": [
    {
     "data": {
      "text/plain": [
       "(21, 5)"
      ]
     },
     "execution_count": 55,
     "metadata": {},
     "output_type": "execute_result"
    }
   ],
   "source": [
    "df.shape"
   ]
  },
  {
   "cell_type": "code",
   "execution_count": 56,
   "id": "caac8f5d-74e2-46c7-9fcb-7149b5be67d1",
   "metadata": {},
   "outputs": [
    {
     "name": "stdout",
     "output_type": "stream",
     "text": [
      "[10.0 90.5]\n",
      "[10.8 90.5]\n",
      "[11.7 90.5]\n",
      "[11.7 90.5]\n",
      "[11.8 90.5]\n",
      "[12.0 90.5]\n",
      "[12.2 90.0]\n",
      "[12.2 89.9]\n",
      "[12.3 89.6]\n",
      "[12.5 89.0]\n",
      "[13.2 86.4]\n",
      "[13.3 85.3]\n",
      "[13.3 85.0]\n",
      "[13.3 83.0]\n",
      "[13.3 82.5]\n",
      "[13.1 82.3]\n",
      "[13.2 81.9]\n",
      "[13.0 79.9]\n",
      "[12.9 79.5]\n",
      "[12.7 79.1]\n"
     ]
    }
   ],
   "source": [
    "for row in range(1, df.shape[0]):\n",
    "    f = df.iloc[row].values\n",
    "    print(f\"[{f[1]} {f[3]}]\")"
   ]
  },
  {
   "cell_type": "code",
   "execution_count": 57,
   "id": "6a595709-6dbe-4e67-a144-3ce629f0fe0b",
   "metadata": {},
   "outputs": [
    {
     "name": "stdout",
     "output_type": "stream",
     "text": [
      "[10.5920704 90.08543794]\n",
      "[11.28230111 90.37556548]\n",
      "[12.40336357 90.15933079]\n",
      "[11.85018825 90.36329667]\n",
      "[12.05135 90.37264683]\n",
      "[12.29353373 90.42026365]\n",
      "[12.69104397 89.29607421]\n",
      "[12.25024698 89.72631913]\n",
      "[12.55552532 89.38258952]\n",
      "[12.80443944 88.6309096]\n",
      "[13.89659238 84.86930556]\n",
      "[13.38830317 84.81995484]\n",
      "[13.33280778 84.5685846]\n",
      "[13.46567317 81.51696889]\n",
      "[13.29628968 82.12603706]\n",
      "[13.01000619 81.9624631]\n",
      "[13.18363254 81.41234587]\n",
      "[13.02896579 78.72375556]\n",
      "[12.89474714 79.14482325]\n",
      "[12.64996856 78.63623571]\n"
     ]
    }
   ],
   "source": [
    "for row in range(1, df.shape[0]):\n",
    "    f = df.iloc[row].values\n",
    "    print(f\"[{f[2]} {f[4]}]\")"
   ]
  },
  {
   "cell_type": "code",
   "execution_count": null,
   "id": "dffada1e-6227-44ff-9a17-e24c4ff5482d",
   "metadata": {},
   "outputs": [],
   "source": []
  }
 ],
 "metadata": {
  "kernelspec": {
   "display_name": "Python 3 (ipykernel)",
   "language": "python",
   "name": "python3"
  },
  "language_info": {
   "codemirror_mode": {
    "name": "ipython",
    "version": 3
   },
   "file_extension": ".py",
   "mimetype": "text/x-python",
   "name": "python",
   "nbconvert_exporter": "python",
   "pygments_lexer": "ipython3",
   "version": "3.10.12"
  }
 },
 "nbformat": 4,
 "nbformat_minor": 5
}
